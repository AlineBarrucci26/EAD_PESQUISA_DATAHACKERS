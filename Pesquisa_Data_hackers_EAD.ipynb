{
  "nbformat": 4,
  "nbformat_minor": 0,
  "metadata": {
    "kernelspec": {
      "display_name": "Python 3",
      "language": "python",
      "name": "python3"
    },
    "language_info": {
      "codemirror_mode": {
        "name": "ipython",
        "version": 3
      },
      "file_extension": ".py",
      "mimetype": "text/x-python",
      "name": "python",
      "nbconvert_exporter": "python",
      "pygments_lexer": "ipython3",
      "version": "3.8.5"
    },
    "colab": {
      "name": "Pesquisa Data hackers - EAD.ipynb",
      "provenance": [],
      "include_colab_link": true
    }
  },
  "cells": [
    {
      "cell_type": "markdown",
      "metadata": {
        "id": "view-in-github",
        "colab_type": "text"
      },
      "source": [
        "<a href=\"https://colab.research.google.com/github/AlineBarrucci26/EAD_PESQUISA_DATAHACKERS/blob/main/Pesquisa_Data_hackers_EAD.ipynb\" target=\"_parent\"><img src=\"https://colab.research.google.com/assets/colab-badge.svg\" alt=\"Open In Colab\"/></a>"
      ]
    },
    {
      "cell_type": "markdown",
      "metadata": {
        "id": "xlU3ElzVeIQ7"
      },
      "source": [
        "#Vamos analisar o perfil dos profissionais cientistas de dados e as empresas que eles atuam."
      ]
    },
    {
      "cell_type": "code",
      "metadata": {
        "id": "rHFccXPReIRI"
      },
      "source": [
        "# pacote de processamento dos dados\n",
        "import pandas as pd\n",
        "import numpy as np\n",
        "\n",
        "# pacote de visualização de dados\n",
        "import seaborn as sns\n",
        "import matplotlib as mpl\n",
        "import matplotlib.pyplot as plt\n"
      ],
      "execution_count": null,
      "outputs": []
    },
    {
      "cell_type": "code",
      "metadata": {
        "id": "2w-q9H_3eIRJ"
      },
      "source": [
        "df = pd.read_csv('datahackers-survey-2019-anonymous-responses.csv')"
      ],
      "execution_count": null,
      "outputs": []
    },
    {
      "cell_type": "code",
      "metadata": {
        "id": "wHWGIusveIRK",
        "outputId": "ff4b2496-2dc2-4d10-d5d3-e0914646ad7c"
      },
      "source": [
        "df.head()"
      ],
      "execution_count": null,
      "outputs": [
        {
          "output_type": "execute_result",
          "data": {
            "text/html": [
              "<div>\n",
              "<style scoped>\n",
              "    .dataframe tbody tr th:only-of-type {\n",
              "        vertical-align: middle;\n",
              "    }\n",
              "\n",
              "    .dataframe tbody tr th {\n",
              "        vertical-align: top;\n",
              "    }\n",
              "\n",
              "    .dataframe thead th {\n",
              "        text-align: right;\n",
              "    }\n",
              "</style>\n",
              "<table border=\"1\" class=\"dataframe\">\n",
              "  <thead>\n",
              "    <tr style=\"text-align: right;\">\n",
              "      <th></th>\n",
              "      <th>('P0', 'id')</th>\n",
              "      <th>('P1', 'age')</th>\n",
              "      <th>('P2', 'gender')</th>\n",
              "      <th>('P3', 'living_in_brasil')</th>\n",
              "      <th>('P5', 'living_state')</th>\n",
              "      <th>('P6', 'born_or_graduated')</th>\n",
              "      <th>('P8', 'degreee_level')</th>\n",
              "      <th>('P10', 'job_situation')</th>\n",
              "      <th>('P12', 'workers_number')</th>\n",
              "      <th>('P13', 'manager')</th>\n",
              "      <th>...</th>\n",
              "      <th>('P34', 'other')</th>\n",
              "      <th>('P35', 'data_science_plataforms_preference')</th>\n",
              "      <th>('P35', 'other')</th>\n",
              "      <th>('P36', 'draw_participation')</th>\n",
              "      <th>('D1', 'living_macroregion')</th>\n",
              "      <th>('D2', 'origin_macroregion')</th>\n",
              "      <th>('D3', 'anonymized_degree_area')</th>\n",
              "      <th>('D4', 'anonymized_market_sector')</th>\n",
              "      <th>('D5', 'anonymized_manager_level')</th>\n",
              "      <th>('D6', 'anonymized_role')</th>\n",
              "    </tr>\n",
              "  </thead>\n",
              "  <tbody>\n",
              "    <tr>\n",
              "      <th>0</th>\n",
              "      <td>v9otv8j9wdvjrv9otvwnn9owhzq54ktv</td>\n",
              "      <td>37.0</td>\n",
              "      <td>Masculino</td>\n",
              "      <td>1</td>\n",
              "      <td>Minas Gerais (MG)</td>\n",
              "      <td>1.0</td>\n",
              "      <td>Estudante de Graduação</td>\n",
              "      <td>Empregado (CTL)</td>\n",
              "      <td>de 1 a 5</td>\n",
              "      <td>0.0</td>\n",
              "      <td>...</td>\n",
              "      <td>0</td>\n",
              "      <td>Nunca fiz cursos online</td>\n",
              "      <td>NaN</td>\n",
              "      <td>1.0</td>\n",
              "      <td>Região Sudeste</td>\n",
              "      <td>NaN</td>\n",
              "      <td>Computação / Engenharia de Software / Sistemas...</td>\n",
              "      <td>Outras</td>\n",
              "      <td>NaN</td>\n",
              "      <td>Outras</td>\n",
              "    </tr>\n",
              "    <tr>\n",
              "      <th>1</th>\n",
              "      <td>875ul998t0hqcv0871uptwf3oswcfv35</td>\n",
              "      <td>24.0</td>\n",
              "      <td>Feminino</td>\n",
              "      <td>1</td>\n",
              "      <td>São Paulo (SP)</td>\n",
              "      <td>1.0</td>\n",
              "      <td>Estudante de Graduação</td>\n",
              "      <td>Empregado (CTL)</td>\n",
              "      <td>Acima de 3000</td>\n",
              "      <td>0.0</td>\n",
              "      <td>...</td>\n",
              "      <td>1</td>\n",
              "      <td>NaN</td>\n",
              "      <td>Data Science Academy</td>\n",
              "      <td>0.0</td>\n",
              "      <td>Região Sudeste</td>\n",
              "      <td>NaN</td>\n",
              "      <td>Computação / Engenharia de Software / Sistemas...</td>\n",
              "      <td>Educação</td>\n",
              "      <td>NaN</td>\n",
              "      <td>Data Analyst/Analista de Dados</td>\n",
              "    </tr>\n",
              "    <tr>\n",
              "      <th>2</th>\n",
              "      <td>puscuk079vw1pusbb900pzw2xvpxtgdk</td>\n",
              "      <td>26.0</td>\n",
              "      <td>Masculino</td>\n",
              "      <td>1</td>\n",
              "      <td>São Paulo (SP)</td>\n",
              "      <td>1.0</td>\n",
              "      <td>Graduação/Bacharelado</td>\n",
              "      <td>Empregado (CTL)</td>\n",
              "      <td>Acima de 3000</td>\n",
              "      <td>0.0</td>\n",
              "      <td>...</td>\n",
              "      <td>0</td>\n",
              "      <td>Udemy</td>\n",
              "      <td>NaN</td>\n",
              "      <td>1.0</td>\n",
              "      <td>Região Sudeste</td>\n",
              "      <td>NaN</td>\n",
              "      <td>Outras Engenharias</td>\n",
              "      <td>Indústria (Manufatura)</td>\n",
              "      <td>NaN</td>\n",
              "      <td>Outras</td>\n",
              "    </tr>\n",
              "    <tr>\n",
              "      <th>3</th>\n",
              "      <td>rmel8ewqpbffp2mnfbzermel8eqincov</td>\n",
              "      <td>21.0</td>\n",
              "      <td>Masculino</td>\n",
              "      <td>1</td>\n",
              "      <td>São Paulo (SP)</td>\n",
              "      <td>0.0</td>\n",
              "      <td>Estudante de Graduação</td>\n",
              "      <td>Estagiário</td>\n",
              "      <td>de 11 a 50</td>\n",
              "      <td>0.0</td>\n",
              "      <td>...</td>\n",
              "      <td>0</td>\n",
              "      <td>Alura</td>\n",
              "      <td>NaN</td>\n",
              "      <td>1.0</td>\n",
              "      <td>Região Sudeste</td>\n",
              "      <td>Região Sudeste</td>\n",
              "      <td>Computação / Engenharia de Software / Sistemas...</td>\n",
              "      <td>Tecnologia/Fábrica de Software</td>\n",
              "      <td>NaN</td>\n",
              "      <td>Business Intelligence/Analista de BI</td>\n",
              "    </tr>\n",
              "    <tr>\n",
              "      <th>4</th>\n",
              "      <td>pj9mgud4d6mdct1l7vq0pj9mgu78h6ju</td>\n",
              "      <td>27.0</td>\n",
              "      <td>Masculino</td>\n",
              "      <td>1</td>\n",
              "      <td>NaN</td>\n",
              "      <td>1.0</td>\n",
              "      <td>Graduação/Bacharelado</td>\n",
              "      <td>Freelancer</td>\n",
              "      <td>de 6 a 10</td>\n",
              "      <td>1.0</td>\n",
              "      <td>...</td>\n",
              "      <td>0</td>\n",
              "      <td>Udemy</td>\n",
              "      <td>NaN</td>\n",
              "      <td>1.0</td>\n",
              "      <td>NaN</td>\n",
              "      <td>NaN</td>\n",
              "      <td>Computação / Engenharia de Software / Sistemas...</td>\n",
              "      <td>Internet/Ecommerce</td>\n",
              "      <td>C-level (CDO, CIO, CTO)</td>\n",
              "      <td>NaN</td>\n",
              "    </tr>\n",
              "  </tbody>\n",
              "</table>\n",
              "<p>5 rows × 170 columns</p>\n",
              "</div>"
            ],
            "text/plain": [
              "                       ('P0', 'id')  ('P1', 'age') ('P2', 'gender')  \\\n",
              "0  v9otv8j9wdvjrv9otvwnn9owhzq54ktv           37.0        Masculino   \n",
              "1  875ul998t0hqcv0871uptwf3oswcfv35           24.0         Feminino   \n",
              "2  puscuk079vw1pusbb900pzw2xvpxtgdk           26.0        Masculino   \n",
              "3  rmel8ewqpbffp2mnfbzermel8eqincov           21.0        Masculino   \n",
              "4  pj9mgud4d6mdct1l7vq0pj9mgu78h6ju           27.0        Masculino   \n",
              "\n",
              "   ('P3', 'living_in_brasil') ('P5', 'living_state')  \\\n",
              "0                           1      Minas Gerais (MG)   \n",
              "1                           1         São Paulo (SP)   \n",
              "2                           1         São Paulo (SP)   \n",
              "3                           1         São Paulo (SP)   \n",
              "4                           1                    NaN   \n",
              "\n",
              "   ('P6', 'born_or_graduated') ('P8', 'degreee_level')  \\\n",
              "0                          1.0  Estudante de Graduação   \n",
              "1                          1.0  Estudante de Graduação   \n",
              "2                          1.0   Graduação/Bacharelado   \n",
              "3                          0.0  Estudante de Graduação   \n",
              "4                          1.0   Graduação/Bacharelado   \n",
              "\n",
              "  ('P10', 'job_situation') ('P12', 'workers_number')  ('P13', 'manager')  ...  \\\n",
              "0          Empregado (CTL)                  de 1 a 5                 0.0  ...   \n",
              "1          Empregado (CTL)             Acima de 3000                 0.0  ...   \n",
              "2          Empregado (CTL)             Acima de 3000                 0.0  ...   \n",
              "3               Estagiário                de 11 a 50                 0.0  ...   \n",
              "4               Freelancer                 de 6 a 10                 1.0  ...   \n",
              "\n",
              "  ('P34', 'other') ('P35', 'data_science_plataforms_preference')  \\\n",
              "0                0                       Nunca fiz cursos online   \n",
              "1                1                                           NaN   \n",
              "2                0                                         Udemy   \n",
              "3                0                                         Alura   \n",
              "4                0                                         Udemy   \n",
              "\n",
              "       ('P35', 'other')  ('P36', 'draw_participation')  \\\n",
              "0                   NaN                            1.0   \n",
              "1  Data Science Academy                            0.0   \n",
              "2                   NaN                            1.0   \n",
              "3                   NaN                            1.0   \n",
              "4                   NaN                            1.0   \n",
              "\n",
              "   ('D1', 'living_macroregion')  ('D2', 'origin_macroregion')  \\\n",
              "0                Região Sudeste                           NaN   \n",
              "1                Região Sudeste                           NaN   \n",
              "2                Região Sudeste                           NaN   \n",
              "3                Região Sudeste                Região Sudeste   \n",
              "4                           NaN                           NaN   \n",
              "\n",
              "                    ('D3', 'anonymized_degree_area')  \\\n",
              "0  Computação / Engenharia de Software / Sistemas...   \n",
              "1  Computação / Engenharia de Software / Sistemas...   \n",
              "2                                 Outras Engenharias   \n",
              "3  Computação / Engenharia de Software / Sistemas...   \n",
              "4  Computação / Engenharia de Software / Sistemas...   \n",
              "\n",
              "   ('D4', 'anonymized_market_sector')  ('D5', 'anonymized_manager_level')  \\\n",
              "0                              Outras                                 NaN   \n",
              "1                            Educação                                 NaN   \n",
              "2              Indústria (Manufatura)                                 NaN   \n",
              "3      Tecnologia/Fábrica de Software                                 NaN   \n",
              "4                  Internet/Ecommerce             C-level (CDO, CIO, CTO)   \n",
              "\n",
              "              ('D6', 'anonymized_role')  \n",
              "0                                Outras  \n",
              "1        Data Analyst/Analista de Dados  \n",
              "2                                Outras  \n",
              "3  Business Intelligence/Analista de BI  \n",
              "4                                   NaN  \n",
              "\n",
              "[5 rows x 170 columns]"
            ]
          },
          "metadata": {
            "tags": []
          },
          "execution_count": 3
        }
      ]
    },
    {
      "cell_type": "code",
      "metadata": {
        "id": "8xmlDu0peIRM"
      },
      "source": [
        "#Arrumando nome de colunas"
      ],
      "execution_count": null,
      "outputs": []
    },
    {
      "cell_type": "code",
      "metadata": {
        "id": "Gp9_phxHeIRM"
      },
      "source": [
        "df.columns = [eval(col)[1] for col in df.columns]"
      ],
      "execution_count": null,
      "outputs": []
    },
    {
      "cell_type": "code",
      "metadata": {
        "id": "6ge2QXYdeIRN",
        "outputId": "b55ee70b-2a89-4063-f690-fd9a332ea17c"
      },
      "source": [
        "df.columns"
      ],
      "execution_count": null,
      "outputs": [
        {
          "output_type": "execute_result",
          "data": {
            "text/plain": [
              "Index(['id', 'age', 'gender', 'living_in_brasil', 'living_state',\n",
              "       'born_or_graduated', 'degreee_level', 'job_situation', 'workers_number',\n",
              "       'manager',\n",
              "       ...\n",
              "       'other', 'data_science_plataforms_preference', 'other',\n",
              "       'draw_participation', 'living_macroregion', 'origin_macroregion',\n",
              "       'anonymized_degree_area', 'anonymized_market_sector',\n",
              "       'anonymized_manager_level', 'anonymized_role'],\n",
              "      dtype='object', length=170)"
            ]
          },
          "metadata": {
            "tags": []
          },
          "execution_count": 8
        }
      ]
    },
    {
      "cell_type": "code",
      "metadata": {
        "id": "UlWHTFFPeIRN",
        "outputId": "bd171b8c-dcaf-4c83-89af-2b840468d870"
      },
      "source": [
        "df.head(3)"
      ],
      "execution_count": null,
      "outputs": [
        {
          "output_type": "execute_result",
          "data": {
            "text/html": [
              "<div>\n",
              "<style scoped>\n",
              "    .dataframe tbody tr th:only-of-type {\n",
              "        vertical-align: middle;\n",
              "    }\n",
              "\n",
              "    .dataframe tbody tr th {\n",
              "        vertical-align: top;\n",
              "    }\n",
              "\n",
              "    .dataframe thead th {\n",
              "        text-align: right;\n",
              "    }\n",
              "</style>\n",
              "<table border=\"1\" class=\"dataframe\">\n",
              "  <thead>\n",
              "    <tr style=\"text-align: right;\">\n",
              "      <th></th>\n",
              "      <th>id</th>\n",
              "      <th>age</th>\n",
              "      <th>gender</th>\n",
              "      <th>living_in_brasil</th>\n",
              "      <th>living_state</th>\n",
              "      <th>born_or_graduated</th>\n",
              "      <th>degreee_level</th>\n",
              "      <th>job_situation</th>\n",
              "      <th>workers_number</th>\n",
              "      <th>manager</th>\n",
              "      <th>...</th>\n",
              "      <th>other</th>\n",
              "      <th>data_science_plataforms_preference</th>\n",
              "      <th>other</th>\n",
              "      <th>draw_participation</th>\n",
              "      <th>living_macroregion</th>\n",
              "      <th>origin_macroregion</th>\n",
              "      <th>anonymized_degree_area</th>\n",
              "      <th>anonymized_market_sector</th>\n",
              "      <th>anonymized_manager_level</th>\n",
              "      <th>anonymized_role</th>\n",
              "    </tr>\n",
              "  </thead>\n",
              "  <tbody>\n",
              "    <tr>\n",
              "      <th>0</th>\n",
              "      <td>v9otv8j9wdvjrv9otvwnn9owhzq54ktv</td>\n",
              "      <td>37.0</td>\n",
              "      <td>Masculino</td>\n",
              "      <td>1</td>\n",
              "      <td>Minas Gerais (MG)</td>\n",
              "      <td>1.0</td>\n",
              "      <td>Estudante de Graduação</td>\n",
              "      <td>Empregado (CTL)</td>\n",
              "      <td>de 1 a 5</td>\n",
              "      <td>0.0</td>\n",
              "      <td>...</td>\n",
              "      <td>0</td>\n",
              "      <td>Nunca fiz cursos online</td>\n",
              "      <td>NaN</td>\n",
              "      <td>1.0</td>\n",
              "      <td>Região Sudeste</td>\n",
              "      <td>NaN</td>\n",
              "      <td>Computação / Engenharia de Software / Sistemas...</td>\n",
              "      <td>Outras</td>\n",
              "      <td>NaN</td>\n",
              "      <td>Outras</td>\n",
              "    </tr>\n",
              "    <tr>\n",
              "      <th>1</th>\n",
              "      <td>875ul998t0hqcv0871uptwf3oswcfv35</td>\n",
              "      <td>24.0</td>\n",
              "      <td>Feminino</td>\n",
              "      <td>1</td>\n",
              "      <td>São Paulo (SP)</td>\n",
              "      <td>1.0</td>\n",
              "      <td>Estudante de Graduação</td>\n",
              "      <td>Empregado (CTL)</td>\n",
              "      <td>Acima de 3000</td>\n",
              "      <td>0.0</td>\n",
              "      <td>...</td>\n",
              "      <td>1</td>\n",
              "      <td>NaN</td>\n",
              "      <td>Data Science Academy</td>\n",
              "      <td>0.0</td>\n",
              "      <td>Região Sudeste</td>\n",
              "      <td>NaN</td>\n",
              "      <td>Computação / Engenharia de Software / Sistemas...</td>\n",
              "      <td>Educação</td>\n",
              "      <td>NaN</td>\n",
              "      <td>Data Analyst/Analista de Dados</td>\n",
              "    </tr>\n",
              "    <tr>\n",
              "      <th>2</th>\n",
              "      <td>puscuk079vw1pusbb900pzw2xvpxtgdk</td>\n",
              "      <td>26.0</td>\n",
              "      <td>Masculino</td>\n",
              "      <td>1</td>\n",
              "      <td>São Paulo (SP)</td>\n",
              "      <td>1.0</td>\n",
              "      <td>Graduação/Bacharelado</td>\n",
              "      <td>Empregado (CTL)</td>\n",
              "      <td>Acima de 3000</td>\n",
              "      <td>0.0</td>\n",
              "      <td>...</td>\n",
              "      <td>0</td>\n",
              "      <td>Udemy</td>\n",
              "      <td>NaN</td>\n",
              "      <td>1.0</td>\n",
              "      <td>Região Sudeste</td>\n",
              "      <td>NaN</td>\n",
              "      <td>Outras Engenharias</td>\n",
              "      <td>Indústria (Manufatura)</td>\n",
              "      <td>NaN</td>\n",
              "      <td>Outras</td>\n",
              "    </tr>\n",
              "  </tbody>\n",
              "</table>\n",
              "<p>3 rows × 170 columns</p>\n",
              "</div>"
            ],
            "text/plain": [
              "                                 id   age     gender  living_in_brasil  \\\n",
              "0  v9otv8j9wdvjrv9otvwnn9owhzq54ktv  37.0  Masculino                 1   \n",
              "1  875ul998t0hqcv0871uptwf3oswcfv35  24.0   Feminino                 1   \n",
              "2  puscuk079vw1pusbb900pzw2xvpxtgdk  26.0  Masculino                 1   \n",
              "\n",
              "        living_state  born_or_graduated           degreee_level  \\\n",
              "0  Minas Gerais (MG)                1.0  Estudante de Graduação   \n",
              "1     São Paulo (SP)                1.0  Estudante de Graduação   \n",
              "2     São Paulo (SP)                1.0   Graduação/Bacharelado   \n",
              "\n",
              "     job_situation workers_number  manager  ... other  \\\n",
              "0  Empregado (CTL)       de 1 a 5      0.0  ...     0   \n",
              "1  Empregado (CTL)  Acima de 3000      0.0  ...     1   \n",
              "2  Empregado (CTL)  Acima de 3000      0.0  ...     0   \n",
              "\n",
              "  data_science_plataforms_preference                 other  \\\n",
              "0            Nunca fiz cursos online                   NaN   \n",
              "1                                NaN  Data Science Academy   \n",
              "2                              Udemy                   NaN   \n",
              "\n",
              "   draw_participation  living_macroregion  origin_macroregion  \\\n",
              "0                 1.0      Região Sudeste                 NaN   \n",
              "1                 0.0      Região Sudeste                 NaN   \n",
              "2                 1.0      Região Sudeste                 NaN   \n",
              "\n",
              "                              anonymized_degree_area  \\\n",
              "0  Computação / Engenharia de Software / Sistemas...   \n",
              "1  Computação / Engenharia de Software / Sistemas...   \n",
              "2                                 Outras Engenharias   \n",
              "\n",
              "   anonymized_market_sector  anonymized_manager_level  \\\n",
              "0                    Outras                       NaN   \n",
              "1                  Educação                       NaN   \n",
              "2    Indústria (Manufatura)                       NaN   \n",
              "\n",
              "                  anonymized_role  \n",
              "0                          Outras  \n",
              "1  Data Analyst/Analista de Dados  \n",
              "2                          Outras  \n",
              "\n",
              "[3 rows x 170 columns]"
            ]
          },
          "metadata": {
            "tags": []
          },
          "execution_count": 9
        }
      ]
    },
    {
      "cell_type": "code",
      "metadata": {
        "id": "sVMltQHReIRO"
      },
      "source": [
        "df.living_state = [living_state.split('(')[1][:-1] if isinstance(living_state, str) else np.nan for living_state in df.living_state.tolist()]"
      ],
      "execution_count": null,
      "outputs": []
    },
    {
      "cell_type": "code",
      "metadata": {
        "id": "IanjjDl-eIRP",
        "outputId": "4a78c187-ac29-4895-e7b3-b0fc80aae67f"
      },
      "source": [
        "#Quantas pessoas que responderam as perguntas são cientistas de dados é quantas não são?\n",
        "df[\"('P19', 'is_data_science_professional')\"].value_counts()"
      ],
      "execution_count": null,
      "outputs": [
        {
          "output_type": "execute_result",
          "data": {
            "text/plain": [
              "1    915\n",
              "0    850\n",
              "Name: ('P19', 'is_data_science_professional'), dtype: int64"
            ]
          },
          "metadata": {
            "tags": []
          },
          "execution_count": 4
        }
      ]
    },
    {
      "cell_type": "code",
      "metadata": {
        "id": "m8t7lAlceIRP"
      },
      "source": [
        "#Vamos analisar o perfil do cientistas de dados"
      ],
      "execution_count": null,
      "outputs": []
    },
    {
      "cell_type": "code",
      "metadata": {
        "id": "hFb76LkteIRQ"
      },
      "source": [
        "# filtrando aqueles que são cientistas de dados\n",
        "df = df[df[\"('P19', 'is_data_science_professional')\"] == 1]"
      ],
      "execution_count": null,
      "outputs": []
    },
    {
      "cell_type": "code",
      "metadata": {
        "id": "F07UZvNkeIRQ"
      },
      "source": [
        "#Qual a idade dos Cientistas de Dados?"
      ],
      "execution_count": null,
      "outputs": []
    },
    {
      "cell_type": "code",
      "metadata": {
        "id": "kOhAUEESeIRR"
      },
      "source": [
        "# histograma por idade\n",
        "val = df[\"('P1', 'age')\"].value_counts()\n",
        "X = [int(key) for key in val.keys()]\n",
        "Y = [val[key] for key in val.keys()]"
      ],
      "execution_count": null,
      "outputs": []
    },
    {
      "cell_type": "code",
      "metadata": {
        "id": "E8JlAsbWeIRR",
        "outputId": "a9aacabe-fabd-443f-949e-0bd65937ad0a"
      },
      "source": [
        "# plot - gráfico de barras\n",
        "plt.bar(X, Y)\n",
        "plt.ylabel('Quantidade')\n",
        "plt.xlabel('Idade')\n",
        "plt.show()\n"
      ],
      "execution_count": null,
      "outputs": [
        {
          "output_type": "display_data",
          "data": {
            "image/png": "[encoded data removed]",
            "text/plain": [
              "<Figure size 432x288 with 1 Axes>"
            ]
          },
          "metadata": {
            "tags": [],
            "needs_background": "light"
          }
        }
      ]
    },
    {
      "cell_type": "code",
      "metadata": {
        "id": "jgcgY8w9eIRS"
      },
      "source": [
        "#Quantos são homens, mulheres?"
      ],
      "execution_count": null,
      "outputs": []
    },
    {
      "cell_type": "code",
      "metadata": {
        "id": "cdphNsh_eIRS"
      },
      "source": [
        "# histograma por gênero\n",
        "val = df[\"('P2', 'gender')\"].value_counts()\n",
        "X = [key for key in val.keys()]\n",
        "Y = [val[key] for key in val.keys()]"
      ],
      "execution_count": null,
      "outputs": []
    },
    {
      "cell_type": "code",
      "metadata": {
        "id": "m_Jo9ls8eIRS",
        "outputId": "c970a47c-60de-4ff9-911d-98a01fc48427"
      },
      "source": [
        "# plot - gráfico de pizza\n",
        "plt.pie(Y, labels=X, autopct='%1.1f%%')\n",
        "plt.show()"
      ],
      "execution_count": null,
      "outputs": [
        {
          "output_type": "display_data",
          "data": {
            "image/png": "[encoded data removed]",
            "text/plain": [
              "<Figure size 432x288 with 1 Axes>"
            ]
          },
          "metadata": {
            "tags": []
          }
        }
      ]
    },
    {
      "cell_type": "code",
      "metadata": {
        "id": "GKentebdeIRT"
      },
      "source": [
        "#Em que estado moram?"
      ],
      "execution_count": null,
      "outputs": []
    },
    {
      "cell_type": "code",
      "metadata": {
        "id": "ibhveP2qeIRT"
      },
      "source": [
        "# histograma por estado\n",
        "val = df[\"('P5', 'living_state')\"].value_counts()\n",
        "X = [key for key in val.keys()]\n",
        "Y = [val[key] for key in val.keys()]"
      ],
      "execution_count": null,
      "outputs": []
    },
    {
      "cell_type": "code",
      "metadata": {
        "id": "38No1rgPeIRU",
        "outputId": "3a65d998-3c30-47d0-ce00-7ad27b0d67a8"
      },
      "source": [
        "xT = range(len(Y))\n",
        "\n",
        "# plot - gráfico de barras horizontal\n",
        "plt.barh(xT, Y)\n",
        "plt.yticks(xT, X)\n",
        "plt.show()"
      ],
      "execution_count": null,
      "outputs": [
        {
          "output_type": "display_data",
          "data": {
            "image/png": "[encoded data removed]",
            "text/plain": [
              "<Figure size 432x288 with 1 Axes>"
            ]
          },
          "metadata": {
            "tags": [],
            "needs_background": "light"
          }
        }
      ]
    },
    {
      "cell_type": "code",
      "metadata": {
        "id": "LTEdeogTeIRV"
      },
      "source": [
        "#Qual são as suas escolaridades?"
      ],
      "execution_count": null,
      "outputs": []
    },
    {
      "cell_type": "code",
      "metadata": {
        "id": "kJq0yd6aeIRV"
      },
      "source": [
        "# histograma por grau de escolaridade\n",
        "val = df[\"('P8', 'degreee_level')\"].value_counts()\n",
        "X = [key for key in val.keys()]\n",
        "Y = [val[key] for key in val.keys()]\n"
      ],
      "execution_count": null,
      "outputs": []
    },
    {
      "cell_type": "code",
      "metadata": {
        "id": "Y9qNuPTSeIRV",
        "outputId": "055099f4-ba9e-450d-a197-37c79a57391e"
      },
      "source": [
        "xT = range(len(Y))\n",
        "\n",
        "# plot - gráfico de barras horizontal\n",
        "plt.barh(xT, Y)\n",
        "plt.yticks(xT, X)\n",
        "plt.show()"
      ],
      "execution_count": null,
      "outputs": [
        {
          "output_type": "display_data",
          "data": {
            "image/png": "[encoded data removed]",
            "text/plain": [
              "<Figure size 432x288 with 1 Axes>"
            ]
          },
          "metadata": {
            "tags": [],
            "needs_background": "light"
          }
        }
      ]
    },
    {
      "cell_type": "code",
      "metadata": {
        "id": "c_u7QMGBeIRW"
      },
      "source": [
        "#Qual são as áreas de formação?"
      ],
      "execution_count": null,
      "outputs": []
    },
    {
      "cell_type": "code",
      "metadata": {
        "id": "f4kwzksCeIRW"
      },
      "source": [
        "# histograma por área de formação\n",
        "val = df[\"('D3', 'anonymized_degree_area')\"].value_counts()\n",
        "X = [key for key in val.keys()]\n",
        "Y = [val[key] for key in val.keys()]"
      ],
      "execution_count": null,
      "outputs": []
    },
    {
      "cell_type": "code",
      "metadata": {
        "id": "xAt6E94OeIRX",
        "outputId": "49e14d8d-5d05-4c04-8b70-02e3fe1975a4"
      },
      "source": [
        "xT = range(len(Y))\n",
        "\n",
        "# plot - gráfico de barras horizontal\n",
        "plt.barh(xT, Y)\n",
        "plt.yticks(xT, X)\n",
        "plt.show()"
      ],
      "execution_count": null,
      "outputs": [
        {
          "output_type": "display_data",
          "data": {
            "image/png": "[encoded data removed]",
            "text/plain": [
              "<Figure size 432x288 with 1 Axes>"
            ]
          },
          "metadata": {
            "tags": [],
            "needs_background": "light"
          }
        }
      ]
    },
    {
      "cell_type": "markdown",
      "metadata": {
        "id": "hYJhu2XneIRX"
      },
      "source": [
        "# Estudo de Empresas"
      ]
    },
    {
      "cell_type": "code",
      "metadata": {
        "id": "TcXKn3GZeIRX"
      },
      "source": [
        "#Quais são as verticais da empresas que trabalham com Ciência de Dados?"
      ],
      "execution_count": null,
      "outputs": []
    },
    {
      "cell_type": "code",
      "metadata": {
        "id": "BJbXKIraeIRY"
      },
      "source": [
        "# histograma de setor\n",
        "val = df[\"('D4', 'anonymized_market_sector')\"].value_counts()\n",
        "val = pd.DataFrame(val).reset_index(drop=False)\n",
        "val.columns = ['Setor', 'Quantidade']"
      ],
      "execution_count": null,
      "outputs": []
    },
    {
      "cell_type": "code",
      "metadata": {
        "id": "AiMpvwNMeIRY",
        "outputId": "7555a03d-b54d-4a2f-ffa1-911c6f1519ae"
      },
      "source": [
        "sns.barplot(data=val, x='Quantidade', y='Setor')\n",
        "plt.show()"
      ],
      "execution_count": null,
      "outputs": [
        {
          "output_type": "display_data",
          "data": {
            "image/png": "[encoded data removed]",
            "text/plain": [
              "<Figure size 432x288 with 1 Axes>"
            ]
          },
          "metadata": {
            "tags": [],
            "needs_background": "light"
          }
        }
      ]
    },
    {
      "cell_type": "code",
      "metadata": {
        "id": "y5R-liGWeIRY"
      },
      "source": [
        "#Qual é a faixa salárial dos Cientistas?"
      ],
      "execution_count": null,
      "outputs": []
    },
    {
      "cell_type": "code",
      "metadata": {
        "id": "ab_Sot65eIRZ"
      },
      "source": [
        "# histograma de setor\n",
        "val = df[\"('P16', 'salary_range')\"].value_counts()\n",
        "val = pd.DataFrame(val).reset_index(drop=False)\n",
        "val.columns = ['Range', 'Quantidade']"
      ],
      "execution_count": null,
      "outputs": []
    },
    {
      "cell_type": "code",
      "metadata": {
        "id": "J9ybRD_seIRZ",
        "outputId": "5faebd11-aa23-4f3b-e089-b527e102ccf0"
      },
      "source": [
        "sns.barplot(data=val, x='Quantidade', y='Range')\n",
        "plt.show()"
      ],
      "execution_count": null,
      "outputs": [
        {
          "output_type": "display_data",
          "data": {
            "image/png": "[encoded data removed]",
            "text/plain": [
              "<Figure size 432x288 with 1 Axes>"
            ]
          },
          "metadata": {
            "tags": [],
            "needs_background": "light"
          }
        }
      ]
    },
    {
      "cell_type": "code",
      "metadata": {
        "id": "iPYzHW5geIRa"
      },
      "source": [
        "#Qual a faixa salário por setor?"
      ],
      "execution_count": null,
      "outputs": []
    },
    {
      "cell_type": "code",
      "metadata": {
        "id": "tz4jjYWaeIRa"
      },
      "source": [
        "# filtra para mostrar apenas alguns setores\n",
        "filterval = ['Finanças ou Bancos', 'Varejo', 'Setor Público', 'Educação', 'Área da Saúde', 'Marketing']\n",
        "val = df[df[\"('D4', 'anonymized_market_sector')\"].isin(filterval)]"
      ],
      "execution_count": null,
      "outputs": []
    },
    {
      "cell_type": "code",
      "metadata": {
        "id": "fK-crkafeIRa"
      },
      "source": [
        "# agrupa os valores\n",
        "val = val.groupby(\"('P16', 'salary_range')\")[\"('D4', 'anonymized_market_sector')\"].value_counts().unstack().fillna(0)"
      ],
      "execution_count": null,
      "outputs": []
    },
    {
      "cell_type": "code",
      "metadata": {
        "id": "CTHzhlj8eIRb",
        "outputId": "196a2ac2-179f-4667-d7b0-875ba93f3b9d"
      },
      "source": [
        "ax = sns.heatmap(val, annot=True, fmt=\".1f\")\n",
        "ax.set(xlabel='Setor', ylabel='Salário')\n",
        "plt.show()\n"
      ],
      "execution_count": null,
      "outputs": [
        {
          "output_type": "display_data",
          "data": {
            "image/png": "[encoded data removed]",
            "text/plain": [
              "<Figure size 432x288 with 2 Axes>"
            ]
          },
          "metadata": {
            "tags": [],
            "needs_background": "light"
          }
        }
      ]
    }
  ]
}